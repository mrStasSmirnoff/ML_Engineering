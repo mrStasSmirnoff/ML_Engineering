{
 "cells": [
  {
   "cell_type": "code",
   "execution_count": 1,
   "metadata": {},
   "outputs": [],
   "source": [
    "import pandas as pd\n",
    "import numpy as numpy\n",
    "import scipy as sp\n",
    "import sklearn\n",
    "import warnings\n",
    "import pickle\n",
    "warnings.filterwarnings('ignore')"
   ]
  },
  {
   "cell_type": "code",
   "execution_count": 2,
   "metadata": {},
   "outputs": [],
   "source": [
    "from sklearn import linear_model,model_selection\n",
    "from sklearn.preprocessing import LabelEncoder\n",
    "from sklearn.metrics import accuracy_score,classification_report"
   ]
  },
  {
   "cell_type": "code",
   "execution_count": 3,
   "metadata": {},
   "outputs": [],
   "source": [
    "#loading data\n",
    "data_train=pd.read_csv('./input/train.csv')\n",
    "data_val=pd.read_csv('./input/test.csv')"
   ]
  },
  {
   "cell_type": "code",
   "execution_count": 4,
   "metadata": {},
   "outputs": [],
   "source": [
    "#combining train and validation/test datasets\n",
    "data_train['test']=0\n",
    "data_val['test']=1\n",
    "data_all=data_train.append(data_val)"
   ]
  },
  {
   "cell_type": "code",
   "execution_count": 5,
   "metadata": {
    "tags": []
   },
   "outputs": [
    {
     "name": "stdout",
     "output_type": "stream",
     "text": [
      "data columns with null values:\n",
      " PassengerId       0\n",
      "Survived        418\n",
      "Pclass            0\n",
      "Name              0\n",
      "Sex               0\n",
      "Age             263\n",
      "SibSp             0\n",
      "Parch             0\n",
      "Ticket            0\n",
      "Fare              1\n",
      "Cabin          1014\n",
      "Embarked          2\n",
      "test              0\n",
      "dtype: int64\n"
     ]
    }
   ],
   "source": [
    "print('data columns with null values:\\n', data_all.isnull().sum())"
   ]
  },
  {
   "cell_type": "code",
   "execution_count": 6,
   "metadata": {},
   "outputs": [],
   "source": [
    "#preprocessing\n",
    "#complete missing age with median\n",
    "data_all['Age'].fillna(data_all['Age'].median(), inplace = True)\n",
    "\n",
    "#complete embarked with mode\n",
    "data_all['Embarked'].fillna(data_all['Embarked'].mode()[0], inplace = True)\n",
    "\n",
    "#complete missing fare with median\n",
    "data_all['Fare'].fillna(data_all['Fare'].median(), inplace = True)\n",
    "\n",
    "#delete the cabin feature/column and others previously stated to exclude in train dataset\n",
    "drop_column = ['PassengerId','Cabin', 'Ticket']\n",
    "data_all.drop(drop_column, axis=1, inplace = True)\n",
    "\n",
    "#Discrete variables\n",
    "data_all['FamilySize'] = data_all['SibSp'] + data_all['Parch'] + 1\n",
    "\n",
    "data_all['IsAlone'] = 1 #initialize to yes/1 is alone\n",
    "data_all['IsAlone'].loc[data_all['FamilySize'] > 1] = 0 # now update to no/0 if family size is greater than 1\n",
    "\n",
    "#quick and dirty code split title from name: http://www.pythonforbeginners.com/dictionary/python-split\n",
    "data_all['Title'] = data_all['Name'].str.split(\", \", expand=True)[1].str.split(\".\", expand=True)[0]\n",
    "\n",
    "\n",
    "#Continuous variable bins; qcut vs cut: https://stackoverflow.com/questions/30211923/what-is-the-difference-between-pandas-qcut-and-pandas-cut\n",
    "#Fare Bins/Buckets using qcut or frequency bins: https://pandas.pydata.org/pandas-docs/stable/generated/pandas.qcut.html\n",
    "data_all['FareBin'] = pd.qcut(data_all['Fare'], 4)\n",
    "\n",
    "#Age Bins/Buckets using cut or value bins: https://pandas.pydata.org/pandas-docs/stable/generated/pandas.cut.html\n",
    "data_all['AgeBin'] = pd.cut(data_all['Age'].astype(int), 5)\n",
    "\n",
    "#cleanup rare title names\n",
    "#print(data1['Title'].value_counts())\n",
    "stat_min = 10 #while small is arbitrary, we'll use the common minimum in statistics: http://nicholasjjackson.com/2012/03/08/sample-size-is-10-a-magic-number/\n",
    "title_names = (data_all['Title'].value_counts() < stat_min) #this will create a true false series with title name as index\n",
    "\n",
    "#apply and lambda functions are quick and dirty code to find and replace with fewer lines of code: https://community.modeanalytics.com/python/tutorial/pandas-groupby-and-python-lambda-functions/\n",
    "data_all['Title'] = data_all['Title'].apply(lambda x: 'Misc' if title_names.loc[x] == True else x)\n"
   ]
  },
  {
   "cell_type": "code",
   "execution_count": 7,
   "metadata": {},
   "outputs": [],
   "source": [
    "#code categorical data\n",
    "label = LabelEncoder()\n",
    "data_all['Sex_Code'] = label.fit_transform(data_all['Sex'])\n",
    "data_all['Embarked_Code'] = label.fit_transform(data_all['Embarked'])\n",
    "data_all['Title_Code'] = label.fit_transform(data_all['Title'])\n",
    "data_all['AgeBin_Code'] = label.fit_transform(data_all['AgeBin'])\n",
    "data_all['FareBin_Code'] = label.fit_transform(data_all['FareBin'])"
   ]
  },
  {
   "cell_type": "code",
   "execution_count": 8,
   "metadata": {},
   "outputs": [],
   "source": [
    "Target = ['Survived']\n",
    "data_all_x_cols = ['Sex_Code','Pclass', 'Embarked_Code', 'Title_Code', 'FamilySize', 'AgeBin_Code', 'FareBin_Code']"
   ]
  },
  {
   "cell_type": "code",
   "execution_count": 9,
   "metadata": {},
   "outputs": [],
   "source": [
    "# Only useful id you have test and train data seperate\n",
    "data_train=data_all[data_all['test']==0]\n",
    "data_val=data_all[data_all['test']==1]"
   ]
  },
  {
   "cell_type": "code",
   "execution_count": 10,
   "metadata": {},
   "outputs": [],
   "source": [
    "results = model_selection.cross_validate(linear_model.LogisticRegressionCV(), data_train[data_all_x_cols], data_train[Target], cv  = 5)"
   ]
  },
  {
   "cell_type": "code",
   "execution_count": 11,
   "metadata": {},
   "outputs": [
    {
     "data": {
      "text/plain": [
       "{'fit_time': array([0.18117094, 0.16790986, 0.17059016, 0.16114211, 0.16341305]),\n",
       " 'score_time': array([0.001333  , 0.0013051 , 0.0014441 , 0.00131202, 0.00135684]),\n",
       " 'test_score': array([0.77653631, 0.78651685, 0.75842697, 0.79213483, 0.81460674])}"
      ]
     },
     "execution_count": 11,
     "metadata": {},
     "output_type": "execute_result"
    }
   ],
   "source": [
    "results"
   ]
  },
  {
   "cell_type": "code",
   "execution_count": 12,
   "metadata": {},
   "outputs": [],
   "source": [
    "model=linear_model.LogisticRegressionCV()\n",
    "model.fit(data_train[data_all_x_cols], data_train[Target])\n",
    "predictions=model.predict(data_train[data_all_x_cols])\n"
   ]
  },
  {
   "cell_type": "code",
   "execution_count": 13,
   "metadata": {
    "tags": []
   },
   "outputs": [
    {
     "name": "stdout",
     "output_type": "stream",
     "text": [
      "accuracy:                precision    recall  f1-score   support\n",
      "\n",
      "         0.0       0.82      0.86      0.84       549\n",
      "         1.0       0.75      0.69      0.72       342\n",
      "\n",
      "    accuracy                           0.79       891\n",
      "   macro avg       0.78      0.77      0.78       891\n",
      "weighted avg       0.79      0.79      0.79       891\n",
      "\n"
     ]
    }
   ],
   "source": [
    "print(\"accuracy: \",classification_report(data_train[Target],predictions))"
   ]
  },
  {
   "cell_type": "code",
   "execution_count": 14,
   "metadata": {},
   "outputs": [],
   "source": [
    "name=\"final_model.sav\"\n",
    "pickle.dump(model, open(name, 'wb'))"
   ]
  },
  {
   "cell_type": "code",
   "execution_count": 15,
   "metadata": {},
   "outputs": [],
   "source": [
    "#we will be later predicting on the test data using the api in testapi.ipynb"
   ]
  }
 ],
 "metadata": {
  "kernelspec": {
   "display_name": "Python 3",
   "language": "python",
   "name": "python3"
  },
  "language_info": {
   "codemirror_mode": {
    "name": "ipython",
    "version": 3
   },
   "file_extension": ".py",
   "mimetype": "text/x-python",
   "name": "python",
   "nbconvert_exporter": "python",
   "pygments_lexer": "ipython3",
   "version": "3.8.3"
  }
 },
 "nbformat": 4,
 "nbformat_minor": 2
}
